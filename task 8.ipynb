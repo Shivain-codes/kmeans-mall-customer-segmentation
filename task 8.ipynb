{
 "cells": [
  {
   "cell_type": "code",
   "execution_count": 5,
   "id": "037b26fd-f800-40b9-9dd6-0f0a8e334641",
   "metadata": {},
   "outputs": [
    {
     "ename": "SyntaxError",
     "evalue": "unterminated string literal (detected at line 10) (4150029311.py, line 10)",
     "output_type": "error",
     "traceback": [
      "\u001b[1;36m  Cell \u001b[1;32mIn[5], line 10\u001b[1;36m\u001b[0m\n\u001b[1;33m    file_path = r'import pandas as pd\u001b[0m\n\u001b[1;37m                ^\u001b[0m\n\u001b[1;31mSyntaxError\u001b[0m\u001b[1;31m:\u001b[0m unterminated string literal (detected at line 10)\n"
     ]
    }
   ],
   "source": [
    "import pandas as pd\n",
    "import matplotlib.pyplot as plt\n",
    "from sklearn.cluster import KMeans\n",
    "from sklearn.metrics import silhouette_score\n",
    "import os\n",
    "\n",
    "# ✅ Specify your file path — CHANGE this to your actual path\n",
    "file_path = r'D:/shivain/Mall_Customers.csv'\n",
    "\n",
    "# ✅ Check if file exists\n",
    "if not os.path.exists(file_path):\n",
    "    raise FileNotFoundError(f\"File not found at: {file_path}\")\n",
    "\n",
    "# ✅ Load dataset\n",
    "df = pd.read_csv(file_path)\n",
    "\n",
    "# ✅ Select features\n",
    "X = df[['Annual Income (k$)', 'Spending Score (1-100)']]\n",
    "\n",
    "# ✅ Plot raw data\n",
    "plt.figure(figsize=(8, 6))\n",
    "plt.scatter(X['Annual Income (k$)'], X['Spending Score (1-100)'], s=50)\n",
    "plt.xlabel('Annual Income (k$)')\n",
    "plt.ylabel('Spending Score (1-100)')\n",
    "plt.title('Customer Distribution')\n",
    "plt.show()\n",
    "\n",
    "# ✅ Elbow method\n",
    "inertia = []\n",
    "for k in range(1, 11):\n",
    "    model = KMeans(n_clusters=k, random_state=42, n_init=10)\n",
    "    model.fit(X)\n",
    "    inertia.append(model.inertia_)\n",
    "\n",
    "plt.figure(figsize=(8, 6))\n",
    "plt.plot(range(1, 11), inertia, 'bo-')\n",
    "plt.xlabel('Number of clusters (K)')\n",
    "plt.ylabel('Inertia')\n",
    "plt.title('Elbow Method')\n",
    "plt.show()\n",
    "\n",
    "# ✅ KMeans clustering\n",
    "optimal_k = 5\n",
    "kmeans = KMeans(n_clusters=optimal_k, random_state=42, n_init=10)\n",
    "df['Cluster'] = kmeans.fit_predict(X)\n",
    "\n",
    "# ✅ Visualize clusters\n",
    "colors = ['red', 'green', 'blue', 'cyan', 'magenta']\n",
    "plt.figure(figsize=(8, 6))\n",
    "for cluster in range(optimal_k):\n",
    "    data = df[df['Cluster'] == cluster]\n",
    "    plt.scatter(data['Annual Income (k$)'], data['Spending Score (1-100)'],\n",
    "                s=50, c=colors[cluster], label=f'Cluster {cluster}')\n",
    "plt.xlabel('Annual Income (k$)')\n",
    "plt.ylabel('Spending Score (1-100)')\n",
    "plt.legend()\n",
    "plt.title('KMeans Clusters')\n",
    "plt.show()\n",
    "\n",
    "# ✅ Silhouette score\n",
    "score = silhouette_score(X, df['Cluster'])\n",
    "print(f'Silhouette Score: {score:.3f}')\n"
   ]
  },
  {
   "cell_type": "code",
   "execution_count": null,
   "id": "e0bda529-acf2-4229-b735-6e2ae82f79f6",
   "metadata": {},
   "outputs": [],
   "source": []
  },
  {
   "cell_type": "code",
   "execution_count": null,
   "id": "ce1fcdc4-cd11-40dc-ad2c-0538e06b40e7",
   "metadata": {},
   "outputs": [],
   "source": []
  }
 ],
 "metadata": {
  "kernelspec": {
   "display_name": "Python [conda env:base] *",
   "language": "python",
   "name": "conda-base-py"
  },
  "language_info": {
   "codemirror_mode": {
    "name": "ipython",
    "version": 3
   },
   "file_extension": ".py",
   "mimetype": "text/x-python",
   "name": "python",
   "nbconvert_exporter": "python",
   "pygments_lexer": "ipython3",
   "version": "3.13.5"
  }
 },
 "nbformat": 4,
 "nbformat_minor": 5
}
